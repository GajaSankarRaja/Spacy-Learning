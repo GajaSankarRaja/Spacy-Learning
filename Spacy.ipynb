{
  "nbformat": 4,
  "nbformat_minor": 0,
  "metadata": {
    "colab": {
      "provenance": [],
      "gpuType": "T4"
    },
    "kernelspec": {
      "name": "python3",
      "display_name": "Python 3"
    },
    "language_info": {
      "name": "python"
    },
    "accelerator": "GPU"
  },
  "cells": [
    {
      "cell_type": "code",
      "source": [
        "spacy.__version__"
      ],
      "metadata": {
        "colab": {
          "base_uri": "https://localhost:8080/",
          "height": 36
        },
        "id": "U5KkpDb8nFU0",
        "outputId": "6d77c98f-f98a-4e66-8a66-d5780801d1e4"
      },
      "execution_count": null,
      "outputs": [
        {
          "output_type": "execute_result",
          "data": {
            "text/plain": [
              "'3.8.7'"
            ],
            "application/vnd.google.colaboratory.intrinsic+json": {
              "type": "string"
            }
          },
          "metadata": {},
          "execution_count": 3
        }
      ]
    },
    {
      "cell_type": "code",
      "execution_count": 1,
      "metadata": {
        "colab": {
          "base_uri": "https://localhost:8080/"
        },
        "id": "BdwPpAzGaUFi",
        "outputId": "3c634b8e-9ed1-40a1-cc26-4472b647ac03"
      },
      "outputs": [
        {
          "output_type": "stream",
          "name": "stdout",
          "text": [
            "<spacy.vocab.Vocab object at 0x7d8a733c3690>\n",
            "<class 'spacy.tokens.doc.Doc'>\n",
            "I\n"
          ]
        }
      ],
      "source": [
        "import spacy\n",
        "nlp = spacy.blank('en')\n",
        "# Process the text\n",
        "doc = nlp(\"I like tree kangaroos and narwhals.\")\n",
        "# Select the first token\n",
        "first_token = doc[0]\n",
        "# Print the first token's text\n",
        "print(doc.vocab)\n",
        "print(type(doc))\n",
        "print(first_token.text)"
      ]
    },
    {
      "cell_type": "code",
      "source": [
        "#Setting Custom Attribute:\n",
        "from spacy.tokens import Token\n",
        "fruit_getter = lambda token: token.text in (\"apple\", \"pear\", \"banana\")\n",
        "Token.set_extension(\"is_fruits\", getter=fruit_getter)\n",
        "doc = nlp(\"I have an apple\")\n",
        "for token in doc:\n",
        "    print(token.text, token._.is_fruits)"
      ],
      "metadata": {
        "colab": {
          "base_uri": "https://localhost:8080/"
        },
        "id": "BiTUHeDjmJi0",
        "outputId": "20bd3f26-161e-4b55-f4c3-317a7def8f9e"
      },
      "execution_count": null,
      "outputs": [
        {
          "output_type": "stream",
          "name": "stdout",
          "text": [
            "I False\n",
            "have False\n",
            "an False\n",
            "apple True\n"
          ]
        }
      ]
    },
    {
      "cell_type": "code",
      "source": [
        "nlp = spacy.load(\"en_core_web_sm\")\n",
        "doc = nlp(\"Steve Jobs founded Apple in 1976.\")\n",
        "\n",
        "for token in doc:\n",
        "    print(f\"{token.text:12} POS: {token.pos_:6} DEP: {token.dep_:10} Lemma: {token.lemma_}\")\n"
      ],
      "metadata": {
        "colab": {
          "base_uri": "https://localhost:8080/"
        },
        "id": "oizf58Mvln4U",
        "outputId": "020982cc-749d-4557-b669-904189d3cf04"
      },
      "execution_count": null,
      "outputs": [
        {
          "output_type": "stream",
          "name": "stdout",
          "text": [
            "Steve        POS: PROPN  DEP: compound   Lemma: Steve\n",
            "Jobs         POS: PROPN  DEP: nsubj      Lemma: Jobs\n",
            "founded      POS: VERB   DEP: ROOT       Lemma: found\n",
            "Apple        POS: PROPN  DEP: dobj       Lemma: Apple\n",
            "in           POS: ADP    DEP: prep       Lemma: in\n",
            "1976         POS: NUM    DEP: pobj       Lemma: 1976\n",
            ".            POS: PUNCT  DEP: punct      Lemma: .\n"
          ]
        }
      ]
    },
    {
      "cell_type": "code",
      "source": [
        "doc = nlp(\n",
        "    \"In 1990, more than 60% of people in East Asia were in extreme poverty. \"\n",
        "    \"Now less than 4% are.\"\n",
        ")\n",
        "for token in doc:\n",
        "  if token.like_num:\n",
        "    print(f'Index:{doc[token.i]},word:{token}')"
      ],
      "metadata": {
        "colab": {
          "base_uri": "https://localhost:8080/"
        },
        "id": "Yi6deTLthC8I",
        "outputId": "70729928-10d9-42c4-b988-76b7d18691ac"
      },
      "execution_count": null,
      "outputs": [
        {
          "output_type": "stream",
          "name": "stdout",
          "text": [
            "Index:1990,word:1990\n",
            "Index:60,word:60\n",
            "Index:4,word:4\n"
          ]
        }
      ]
    },
    {
      "cell_type": "code",
      "source": [
        "nlp = spacy.load(\"en_core_web_sm\")\n",
        "\n",
        "text = \"It’s official: Apple is the first U.S. public company to reach a $1 trillion market value\"\n",
        "\n",
        "# Process the text\n",
        "doc = nlp(text)\n",
        "\n",
        "for token in doc:\n",
        "    # Get the token text, part-of-speech tag and dependency label\n",
        "    token_text = token.text\n",
        "    token_pos = token.pos_\n",
        "    token_dep = token.dep_\n",
        "    # This is for formatting only\n",
        "    print(f\"{token_text:<12}{token_pos:<10}{token_dep:<10}\")"
      ],
      "metadata": {
        "colab": {
          "base_uri": "https://localhost:8080/"
        },
        "id": "VVsdz985hAMY",
        "outputId": "83b161ac-796a-473f-9de5-a335f5a1ea3f"
      },
      "execution_count": null,
      "outputs": [
        {
          "output_type": "stream",
          "name": "stdout",
          "text": [
            "It          PRON      nsubj     \n",
            "’s          VERB      ccomp     \n",
            "official    NOUN      attr      \n",
            ":           PUNCT     punct     \n",
            "Apple       PROPN     nsubj     \n",
            "is          AUX       ROOT      \n",
            "the         DET       det       \n",
            "first       ADJ       amod      \n",
            "U.S.        PROPN     nmod      \n",
            "public      ADJ       amod      \n",
            "company     NOUN      attr      \n",
            "to          PART      aux       \n",
            "reach       VERB      relcl     \n",
            "a           DET       det       \n",
            "$           SYM       quantmod  \n",
            "1           NUM       compound  \n",
            "trillion    NUM       nummod    \n",
            "market      NOUN      compound  \n",
            "value       NOUN      dobj      \n"
          ]
        }
      ]
    },
    {
      "cell_type": "code",
      "source": [
        "text = \"It’s official: Apple is the first U.S. public company to reach a $1 trillion market value\"\n",
        "\n",
        "# Process the text\n",
        "doc = nlp(text)\n",
        "\n",
        "# Iterate over the predicted entities\n",
        "for ent in doc.ents:\n",
        "    # Print the entity text and its label\n",
        "    print(ent.text, ent.label_)"
      ],
      "metadata": {
        "colab": {
          "base_uri": "https://localhost:8080/"
        },
        "id": "YvFXJdipr3yd",
        "outputId": "707fb5a7-2e0c-42c5-ecac-e463c170445e"
      },
      "execution_count": null,
      "outputs": [
        {
          "output_type": "stream",
          "name": "stdout",
          "text": [
            "Apple ORG\n",
            "first ORDINAL\n",
            "U.S. GPE\n",
            "$1 trillion MONEY\n"
          ]
        }
      ]
    },
    {
      "cell_type": "code",
      "source": [
        "# Import the Matcher\n",
        "from spacy.matcher import Matcher\n",
        "\n",
        "nlp = spacy.load(\"en_core_web_sm\")\n",
        "doc = nlp(\"Upcoming iPhone X release date leaked as Apple reveals pre-orders\")\n",
        "\n",
        "# Initialize the Matcher with the shared vocabulary\n",
        "matcher = Matcher(nlp.vocab)\n",
        "\n",
        "# Create a pattern matching two tokens: \"iPhone\" and \"X\"\n",
        "pattern = [{\"TEXT\": \"iPhone\"}, {\"TEXT\": \"X\"}]\n",
        "\n",
        "# Add the pattern to the matcher\n",
        "matcher.add(\"IPHONE_X_PATTERN\", [pattern])\n",
        "\n",
        "# Use the matcher on the doc\n",
        "matches = matcher(doc)\n",
        "print(\"Matches:\", [doc[start:end].text for match_id, start, end in matches])"
      ],
      "metadata": {
        "colab": {
          "base_uri": "https://localhost:8080/"
        },
        "id": "n7fiMo6UsgK1",
        "outputId": "14211da0-ed44-4c79-a326-c342a0b934eb"
      },
      "execution_count": null,
      "outputs": [
        {
          "output_type": "stream",
          "name": "stdout",
          "text": [
            "Matches: ['iPhone X']\n"
          ]
        }
      ]
    },
    {
      "cell_type": "code",
      "source": [
        "matcher = Matcher(nlp.vocab)\n",
        "\n",
        "doc = nlp(\n",
        "    \"After making the iOS update you won't notice a radical system-wide \"\n",
        "    \"redesign: nothing like the aesthetic upheaval we got with iOS 7. Most of \"\n",
        "    \"iOS 11's furniture remains the same as in iOS 10. But you will discover \"\n",
        "    \"some tweaks once you delve a little deeper.\"\n",
        ")\n",
        "\n",
        "# Write a pattern for full iOS versions (\"iOS 7\", \"iOS 11\", \"iOS 10\")\n",
        "pattern = [{\"TEXT\": \"iOS\"}, {\"IS_DIGIT\": True}]\n",
        "\n",
        "# Add the pattern to the matcher and apply the matcher to the doc\n",
        "matcher.add(\"IOS_VERSION_PATTERN\", [pattern])\n",
        "matches = matcher(doc)\n",
        "print(\"Total matches found:\", len(matches))\n",
        "\n",
        "# Iterate over the matches and print the span text\n",
        "for match_id, start, end in matches:\n",
        "    print(match_id)\n",
        "    print(\"Match found:\", doc[start:end].text)"
      ],
      "metadata": {
        "colab": {
          "base_uri": "https://localhost:8080/"
        },
        "id": "E0avmpe4xK-H",
        "outputId": "c3d79973-c5b5-4f93-8b3d-e3365d0a1cfe"
      },
      "execution_count": null,
      "outputs": [
        {
          "output_type": "stream",
          "name": "stdout",
          "text": [
            "Total matches found: 3\n",
            "2870259198116999432\n",
            "Match found: iOS 7\n",
            "2870259198116999432\n",
            "Match found: iOS 11\n",
            "2870259198116999432\n",
            "Match found: iOS 10\n"
          ]
        }
      ]
    },
    {
      "cell_type": "code",
      "source": [
        "doc = nlp(\n",
        "    \"Features of the app include a beautiful design, smart search, automatic \"\n",
        "    \"labels and optional voice responses.\"\n",
        ")\n",
        "\n",
        "# Write a pattern for adjective plus one or two nouns\n",
        "pattern = [{\"POS\": \"ADJ\"}, {\"POS\": \"NOUN\"}, {\"POS\": \"NOUN\", \"OP\": \"?\"}]\n",
        "\n",
        "# Add the pattern to the matcher and apply the matcher to the doc\n",
        "matcher.add(\"ADJ_NOUN_PATTERN\", [pattern])\n",
        "matches = matcher(doc)\n",
        "print(\"Total matches found:\", len(matches))\n",
        "\n",
        "# Iterate over the matches and print the span text\n",
        "for match_id, start, end in matches:\n",
        "    print(\"Match found:\", doc[start:end].text)"
      ],
      "metadata": {
        "id": "4b3lX1wm20A0",
        "outputId": "5e65574c-b7db-445e-81b1-b7923e56bd74",
        "colab": {
          "base_uri": "https://localhost:8080/"
        }
      },
      "execution_count": null,
      "outputs": [
        {
          "output_type": "stream",
          "name": "stdout",
          "text": [
            "Total matches found: 5\n",
            "Match found: beautiful design\n",
            "Match found: smart search\n",
            "Match found: automatic labels\n",
            "Match found: optional voice\n",
            "Match found: optional voice responses\n"
          ]
        }
      ]
    },
    {
      "cell_type": "code",
      "source": [
        "lp = spacy.blank(\"en\")\n",
        "doc = nlp(\"I have a cat\")\n",
        "\n",
        "# Look up the hash for the word \"cat\"\n",
        "cat_hash = nlp.vocab.strings[\"cat\"]\n",
        "print(cat_hash)\n",
        "\n",
        "# Look up the cat_hash to get the string\n",
        "cat_string = nlp.vocab.strings[cat_hash]\n",
        "print(cat_string)"
      ],
      "metadata": {
        "colab": {
          "base_uri": "https://localhost:8080/"
        },
        "id": "6EBOw1kxpNqS",
        "outputId": "c9b99435-345e-44f7-f3a4-7ba2b384c654"
      },
      "execution_count": null,
      "outputs": [
        {
          "output_type": "stream",
          "name": "stdout",
          "text": [
            "5439657043933447811\n",
            "cat\n"
          ]
        }
      ]
    },
    {
      "cell_type": "code",
      "source": [
        "from spacy.tokens import Doc\n",
        "\n",
        "# Desired text: \"spaCy is cool!\"\n",
        "words = [\"spaCy\", \"is\", \"cool\", \"!\"]\n",
        "spaces = [True, True, False, False]\n",
        "\n",
        "# Create a Doc from the words and spaces\n",
        "doc = Doc(nlp.vocab, words=words, spaces=spaces)\n",
        "print(doc.text)"
      ],
      "metadata": {
        "colab": {
          "base_uri": "https://localhost:8080/"
        },
        "id": "0UndEamFpN6B",
        "outputId": "813892d0-945f-497f-dc71-01ec553b9df6"
      },
      "execution_count": null,
      "outputs": [
        {
          "output_type": "stream",
          "name": "stdout",
          "text": [
            "spaCy is cool!\n"
          ]
        }
      ]
    },
    {
      "cell_type": "code",
      "source": [
        "from spacy.tokens import Doc, Span\n",
        "\n",
        "words = [\"I\", \"like\", \"David\", \"Bowie\"]\n",
        "spaces = [True, True, True, False]\n",
        "\n",
        "# Create a doc from the words and spaces\n",
        "doc = Doc(nlp.vocab, words=words, spaces=spaces)\n",
        "print(doc.text)\n",
        "\n",
        "# Create a span for \"David Bowie\" from the doc and assign it the label \"PERSON\"\n",
        "span = Span(doc, 2, 4, label=\"PERSON\")\n",
        "print(span.text, span.label_)\n",
        "\n",
        "# Add the span to the doc's entities\n",
        "doc.ents = [span]\n",
        "\n",
        "# Print entities' text and labels\n",
        "print([(ent.text, ent.label_) for ent in doc.ents])"
      ],
      "metadata": {
        "colab": {
          "base_uri": "https://localhost:8080/"
        },
        "id": "hd9_26evpOSr",
        "outputId": "c58ff743-01f1-42de-ee45-481a18734a4b"
      },
      "execution_count": null,
      "outputs": [
        {
          "output_type": "stream",
          "name": "stdout",
          "text": [
            "I like David Bowie\n",
            "David Bowie PERSON\n",
            "[('David Bowie', 'PERSON')]\n"
          ]
        }
      ]
    },
    {
      "cell_type": "code",
      "source": [
        "nlp = spacy.load(\"en_core_web_sm\")\n",
        "doc = nlp(\"Berlin looks like a nice city\")\n",
        "for token in doc:\n",
        "    # Check if the current token is a proper noun\n",
        "    if token.pos_== \"PROPN\":\n",
        "        # Check if the next token is a verb\n",
        "        if doc[token.i+1].pos_ == \"VERB\":\n",
        "            result = token\n",
        "            print(\"Found proper noun before a verb:\", result)"
      ],
      "metadata": {
        "colab": {
          "base_uri": "https://localhost:8080/"
        },
        "id": "B_M_OoNj0KDa",
        "outputId": "9daa4ca9-e60d-404c-b90f-c6f9ba209a10"
      },
      "execution_count": null,
      "outputs": [
        {
          "output_type": "stream",
          "name": "stdout",
          "text": [
            "Found proper noun before a verb: Berlin\n"
          ]
        }
      ]
    },
    {
      "cell_type": "code",
      "source": [
        "!python -m spacy download en_core_web_md"
      ],
      "metadata": {
        "colab": {
          "base_uri": "https://localhost:8080/"
        },
        "id": "tsQ0wTvP1Rkh",
        "outputId": "8e4ff4ef-322a-4099-c489-e8c3bf5a2636"
      },
      "execution_count": null,
      "outputs": [
        {
          "output_type": "stream",
          "name": "stdout",
          "text": [
            "Collecting en-core-web-md==3.8.0\n",
            "  Downloading https://github.com/explosion/spacy-models/releases/download/en_core_web_md-3.8.0/en_core_web_md-3.8.0-py3-none-any.whl (33.5 MB)\n",
            "\u001b[2K     \u001b[90m━━━━━━━━━━━━━━━━━━━━━━━━━━━━━━━━━━━━━━━━\u001b[0m \u001b[32m33.5/33.5 MB\u001b[0m \u001b[31m43.6 MB/s\u001b[0m eta \u001b[36m0:00:00\u001b[0m\n",
            "\u001b[?25hInstalling collected packages: en-core-web-md\n",
            "Successfully installed en-core-web-md-3.8.0\n",
            "\u001b[38;5;2m✔ Download and installation successful\u001b[0m\n",
            "You can now load the package via spacy.load('en_core_web_md')\n",
            "\u001b[38;5;3m⚠ Restart to reload dependencies\u001b[0m\n",
            "If you are in a Jupyter or Colab notebook, you may need to restart Python in\n",
            "order to load all the package's dependencies. You can do this by selecting the\n",
            "'Restart kernel' or 'Restart runtime' option.\n"
          ]
        }
      ]
    },
    {
      "cell_type": "code",
      "source": [
        "nlp = spacy.load('en_core_web_md')\n",
        "# Process a text\n",
        "doc = nlp(\"Two bananas in pyjamas\")\n",
        "# Get the vector for the token \"bananas\"\n",
        "bananas_vector = doc[1].vector\n",
        "print(len(bananas_vector))\n",
        "print(bananas_vector)"
      ],
      "metadata": {
        "colab": {
          "base_uri": "https://localhost:8080/"
        },
        "id": "cYWU9HSh0MTL",
        "outputId": "ea091515-056b-4de0-f0b5-9466b801c846"
      },
      "execution_count": null,
      "outputs": [
        {
          "output_type": "stream",
          "name": "stdout",
          "text": [
            "300\n",
            "[-0.6334     0.18981   -0.53544   -0.52658   -0.30001    0.30559\n",
            " -0.49303    0.14636    0.012273   0.96802    0.0040354  0.25234\n",
            " -0.29864   -0.014646  -0.24905   -0.67125   -0.053366   0.59426\n",
            " -0.068034   0.10315    0.66759    0.024617  -0.37548    0.52557\n",
            "  0.054449  -0.36748   -0.28013    0.090898  -0.025687  -0.5947\n",
            " -0.24269    0.28603    0.686      0.29737    0.30422    0.69032\n",
            "  0.042784   0.023701  -0.57165    0.70581   -0.20813   -0.03204\n",
            " -0.12494   -0.42933    0.31271    0.30352    0.09421   -0.15493\n",
            "  0.071356   0.15022   -0.41792    0.066394  -0.034546  -0.45772\n",
            "  0.57177   -0.82755   -0.27885    0.71801   -0.12425    0.18551\n",
            "  0.41342   -0.53997    0.55864   -0.015805  -0.1074    -0.29981\n",
            " -0.17271    0.27066    0.043996   0.60107   -0.353      0.6831\n",
            "  0.20703    0.12068    0.24852   -0.15605    0.25812    0.007004\n",
            " -0.10741   -0.097053   0.085628   0.096307   0.20857   -0.23338\n",
            " -0.077905  -0.030906   1.0494     0.55368   -0.10703    0.052234\n",
            "  0.43407   -0.13926    0.38115    0.021104  -0.40922    0.35972\n",
            " -0.28898    0.30618    0.060807  -0.023517   0.58193   -0.3098\n",
            "  0.21013   -0.15557   -0.56913   -1.1364     0.36598   -0.032666\n",
            "  1.1926     0.12825   -0.090486  -0.47965   -0.61164   -0.16484\n",
            " -0.41134    0.19925    0.059183  -0.20842    0.45223    0.27697\n",
            " -0.20745    0.025404  -0.28874    0.040478  -0.22275   -0.43323\n",
            "  0.76957   -0.054327  -0.35213   -0.30842   -0.48791   -0.35564\n",
            "  0.19813   -0.094767  -0.50918    0.18763   -0.087555   0.37709\n",
            " -0.1322    -0.096913  -1.9102     0.55813    0.27391   -0.077744\n",
            " -0.43933   -0.10367   -0.24408    0.41869    0.11659    0.27454\n",
            "  0.81021   -0.11006    0.43131    0.29095   -0.49548   -0.31958\n",
            " -0.072506   0.020286   0.2179     0.22032   -0.29212    0.75639\n",
            "  0.13598    0.019736  -0.83104    0.22836   -0.28669   -1.0529\n",
            "  0.052771   0.41266    0.50149    0.5323     0.51573   -0.31806\n",
            " -0.4619     0.21739   -0.43584   -0.41382    0.042237  -0.57179\n",
            "  0.067623  -0.27854    0.090044   0.20633    0.024678  -0.57703\n",
            " -0.020183  -0.53147   -0.37548   -0.12795   -0.093662  -0.0061183\n",
            "  0.20221   -0.62296   -0.29746    0.26935    0.59009   -0.50382\n",
            " -0.69757    0.20157   -0.33592   -0.45766    0.14061    0.22982\n",
            "  0.044046   0.26386    0.02942    0.34095    1.1496    -0.15555\n",
            " -0.064071   0.30139    0.024211  -0.63515   -0.73347   -0.10346\n",
            " -0.22637   -0.056392  -0.16735   -0.097331  -0.19206   -0.18866\n",
            "  0.15116   -0.038048   0.70205    0.11586   -0.14813    0.0095166\n",
            " -0.33804   -0.10158   -0.23829   -0.22759    0.092504  -0.29839\n",
            " -0.39721    0.26092    0.34594   -0.47396   -0.25725   -0.19257\n",
            " -0.53071    0.1692    -0.47252   -0.17333   -0.40505    0.046446\n",
            " -0.04473    0.33555   -0.5693     0.31591   -0.21167   -0.31298\n",
            " -0.45923   -0.083091   0.086822   0.01264    0.43779    0.12651\n",
            "  0.30156    0.022061   0.26549   -0.29455   -0.14838    0.033692\n",
            " -0.37346   -0.075343  -0.56498   -0.24207   -0.69351   -0.20277\n",
            " -0.0081185  0.030971   0.53615   -0.16613   -0.84087    0.74661\n",
            "  0.029132   0.46936   -0.49755    0.40954   -0.022558   0.21497\n",
            " -0.049528  -0.039799   0.46165    0.26456    0.32985   -0.04219\n",
            " -0.099599  -0.17312   -0.476     -0.019048  -0.41888   -0.2685\n",
            " -0.65281    0.068773  -0.23881   -1.1784     0.25504    0.61171  ]\n"
          ]
        }
      ]
    },
    {
      "cell_type": "code",
      "source": [
        "nlp = spacy.load(\"en_core_web_md\")\n",
        "\n",
        "doc1 = nlp(\"It's a warm summer day\")\n",
        "doc2 = nlp(\"It's sunny outside\")\n",
        "\n",
        "# Get the similarity of doc1 and doc2\n",
        "similarity = doc1.similarity(doc2)\n",
        "print(similarity)"
      ],
      "metadata": {
        "colab": {
          "base_uri": "https://localhost:8080/"
        },
        "id": "4v9qyKOO1Fyn",
        "outputId": "9f2279de-29af-408a-be7e-41b101dd0add"
      },
      "execution_count": null,
      "outputs": [
        {
          "output_type": "stream",
          "name": "stdout",
          "text": [
            "0.8456854224205017\n"
          ]
        }
      ]
    },
    {
      "cell_type": "code",
      "source": [
        "from spacy.matcher import Matcher\n",
        "\n",
        "nlp = spacy.load(\"en_core_web_sm\")\n",
        "doc = nlp(\n",
        "    \"Twitch Prime, the perks program for Amazon Prime members offering free \"\n",
        "    \"loot, games and other benefits, is ditching one of its best features: \"\n",
        "    \"ad-free viewing. According to an email sent out to Amazon Prime members \"\n",
        "    \"today, ad-free viewing will no longer be included as a part of Twitch \"\n",
        "    \"Prime for new members, beginning on September 14. However, members with \"\n",
        "    \"existing annual subscriptions will be able to continue to enjoy ad-free \"\n",
        "    \"viewing until their subscription comes up for renewal. Those with \"\n",
        "    \"monthly subscriptions will have access to ad-free viewing until October 15.\"\n",
        ")\n",
        "\n",
        "# Create the match patterns\n",
        "pattern1 = [{\"LOWER\": \"amazon\"}, {\"IS_TITLE\": True, \"POS\": \"PROPN\"}]\n",
        "pattern2 = [{\"LOWER\": \"ad\"},{\"TEXT\":\"-\"},{\"LOWER\":\"free\"}, {\"POS\": \"NOUN\"}]\n",
        "\n",
        "# Initialize the Matcher and add the patterns\n",
        "matcher = Matcher(nlp.vocab)\n",
        "matcher.add(\"PATTERN1\", [pattern1])\n",
        "matcher.add(\"PATTERN2\", [pattern2])\n",
        "\n",
        "# Iterate over the matches\n",
        "for match_id, start, end in matcher(doc):\n",
        "    # Print pattern string name and text of matched span\n",
        "    print(doc.vocab.strings[match_id], doc[start:end].text)"
      ],
      "metadata": {
        "colab": {
          "base_uri": "https://localhost:8080/"
        },
        "id": "yn52m6nF3czR",
        "outputId": "02d7c5ec-e606-4dc9-fdfb-0741dd7881f5"
      },
      "execution_count": null,
      "outputs": [
        {
          "output_type": "stream",
          "name": "stdout",
          "text": [
            "PATTERN1 Amazon Prime\n",
            "PATTERN2 ad-free viewing\n",
            "PATTERN1 Amazon Prime\n",
            "PATTERN2 ad-free viewing\n",
            "PATTERN2 ad-free viewing\n",
            "PATTERN2 ad-free viewing\n"
          ]
        }
      ]
    },
    {
      "cell_type": "code",
      "source": [
        "from spacy.matcher import PhraseMatcher\n",
        "# Load spaCy model\n",
        "nlp = spacy.load(\"en_core_web_sm\")\n",
        "\n",
        "# Create PhraseMatcher\n",
        "matcher = PhraseMatcher(nlp.vocab)\n",
        "\n",
        "# Phrases to match\n",
        "skills = [\"data science\", \"machine learning\", \"python\", \"deep learning\"]\n",
        "patterns = [nlp.make_doc(text) for text in skills]\n",
        "matcher.add(\"SKILL\", patterns)\n",
        "\n",
        "# List of texts (e.g., resumes or job descriptions)\n",
        "texts = [\n",
        "    \"I have experience with data science and python.\",\n",
        "    \"My work focuses on deep learning and AI.\",\n",
        "    \"I am a machine learning engineer.\"\n",
        "]\n",
        "\n",
        "# Process efficiently using nlp.pipe()\n",
        "for doc in nlp.pipe(texts):\n",
        "    matches = matcher(doc)\n",
        "    print(matches)\n",
        "    print(f\"\\nText: {doc.text}\")\n",
        "    for match_id, start, end in matches:\n",
        "        span = doc[start:end]\n",
        "        print(f\"Matched phrase: {span.text}\")\n",
        "\n",
        "\n",
        "# Load spaCy model\n",
        "nlp = spacy.load(\"en_core_web_sm\")\n",
        "\n",
        "# Create PhraseMatcher\n",
        "matcher = PhraseMatcher(nlp.vocab)\n",
        "\n",
        "# Phrases to match\n",
        "skills = [\"data science\", \"machine learning\", \"python\", \"deep learning\"]\n",
        "patterns = [nlp.make_doc(text) for text in skills]\n",
        "matcher.add(\"SKILL\", patterns)\n",
        "\n",
        "# List of texts (e.g., resumes or job descriptions)\n",
        "texts = [\n",
        "    \"I have experience with data science and python.\",\n",
        "    \"My work focuses on deep learning and AI.\",\n",
        "    \"I am a machine learning engineer.\"\n",
        "]\n",
        "\n",
        "# Process efficiently using nlp.pipe()\n",
        "for doc in nlp.pipe(texts):\n",
        "    matches = matcher(doc)\n",
        "    print(f\"\\nText: {doc.text}\")\n",
        "    for match_id, start, end in matches:\n",
        "        span = doc[start:end]\n",
        "        print(f\"Matched phrase: {span.text}\")\n"
      ],
      "metadata": {
        "colab": {
          "base_uri": "https://localhost:8080/"
        },
        "id": "FQxMe0dV3dK-",
        "outputId": "ca31d8ad-01ff-437a-f97e-72bb7695d402"
      },
      "execution_count": null,
      "outputs": [
        {
          "output_type": "stream",
          "name": "stdout",
          "text": [
            "[(246859891514552380, 4, 6), (246859891514552380, 7, 8)]\n",
            "\n",
            "Text: I have experience with data science and python.\n",
            "Matched phrase: data science\n",
            "Matched phrase: python\n",
            "[(246859891514552380, 4, 6)]\n",
            "\n",
            "Text: My work focuses on deep learning and AI.\n",
            "Matched phrase: deep learning\n",
            "[(246859891514552380, 3, 5)]\n",
            "\n",
            "Text: I am a machine learning engineer.\n",
            "Matched phrase: machine learning\n",
            "\n",
            "Text: I have experience with data science and python.\n",
            "Matched phrase: data science\n",
            "Matched phrase: python\n",
            "\n",
            "Text: My work focuses on deep learning and AI.\n",
            "Matched phrase: deep learning\n",
            "\n",
            "Text: I am a machine learning engineer.\n",
            "Matched phrase: machine learning\n"
          ]
        }
      ]
    },
    {
      "cell_type": "code",
      "source": [
        "nlp.pipe_names"
      ],
      "metadata": {
        "id": "cpFKofxZ3dem",
        "colab": {
          "base_uri": "https://localhost:8080/"
        },
        "outputId": "4a1c5009-c0bd-4492-ace7-95e519c9ae5b"
      },
      "execution_count": null,
      "outputs": [
        {
          "output_type": "execute_result",
          "data": {
            "text/plain": [
              "['tok2vec', 'tagger', 'parser', 'attribute_ruler', 'lemmatizer', 'ner']"
            ]
          },
          "metadata": {},
          "execution_count": 11
        }
      ]
    },
    {
      "cell_type": "code",
      "source": [
        "print(nlp.pipeline)"
      ],
      "metadata": {
        "colab": {
          "base_uri": "https://localhost:8080/"
        },
        "id": "Iv9C2XGi9we_",
        "outputId": "e72c3e5f-4402-4860-d2ca-84d0ce0f4f91"
      },
      "execution_count": null,
      "outputs": [
        {
          "output_type": "stream",
          "name": "stdout",
          "text": [
            "[('tok2vec', <spacy.pipeline.tok2vec.Tok2Vec object at 0x79d68d7fb470>), ('tagger', <spacy.pipeline.tagger.Tagger object at 0x79d68d7fbc50>), ('parser', <spacy.pipeline.dep_parser.DependencyParser object at 0x79d68ed4ac00>), ('attribute_ruler', <spacy.pipeline.attributeruler.AttributeRuler object at 0x79d68c4bc450>), ('lemmatizer', <spacy.lang.en.lemmatizer.EnglishLemmatizer object at 0x79d68d8bcdd0>), ('ner', <spacy.pipeline.ner.EntityRecognizer object at 0x79d68ed4b6f0>)]\n"
          ]
        }
      ]
    },
    {
      "cell_type": "code",
      "source": [
        "from spacy.language import Language\n",
        "\n",
        "# Define the custom component\n",
        "@Language.component(\"length_component\")\n",
        "def length_component_function(doc):\n",
        "    # Get the doc's length\n",
        "    doc_length = len(doc)\n",
        "    print(f\"This document is {doc_length} tokens long.\")\n",
        "    # Return the doc\n",
        "    return doc\n",
        "\n",
        "# Load the small English pipeline\n",
        "nlp = spacy.load(\"en_core_web_sm\")\n",
        "\n",
        "# Add the component first in the pipeline and print the pipe names\n",
        "nlp.add_pipe(\"length_component\",first=True)\n",
        "print(nlp.pipe_names)\n",
        "\n",
        "# Process a text\n",
        "doc = nlp(\"this is gaja\")"
      ],
      "metadata": {
        "colab": {
          "base_uri": "https://localhost:8080/"
        },
        "id": "6qDQjbCo99mu",
        "outputId": "19ebd523-c87f-4453-bcb6-b12177fa6c05"
      },
      "execution_count": null,
      "outputs": [
        {
          "output_type": "stream",
          "name": "stdout",
          "text": [
            "['length_component', 'tok2vec', 'tagger', 'parser', 'attribute_ruler', 'lemmatizer', 'ner']\n",
            "This document is 3 tokens long.\n"
          ]
        }
      ]
    },
    {
      "cell_type": "markdown",
      "source": [
        "# Here We See that the below code snippet doesn't show any results beacause cat and dof (Golden Retriver) are not a specific named entities in any language."
      ],
      "metadata": {
        "id": "fXNtWQRG6kn_"
      }
    },
    {
      "cell_type": "code",
      "source": [
        "nlp=spacy.load('en_core_web_sm')\n",
        "doc1= nlp(\"I have a cat and a Golden Retriever\")\n",
        "for ent in doc1.ents:\n",
        "  print(ent.text,ent.label_)"
      ],
      "metadata": {
        "id": "uI1vfQw85pgX"
      },
      "execution_count": null,
      "outputs": []
    },
    {
      "cell_type": "code",
      "source": [
        "from spacy.language import Language\n",
        "from spacy.matcher import PhraseMatcher\n",
        "from spacy.tokens import Span\n",
        "\n",
        "nlp = spacy.load(\"en_core_web_sm\")\n",
        "animals = [\"Golden Retriever\", \"cat\", \"turtle\", \"Rattus norvegicus\"]\n",
        "animal_patterns = list(nlp.pipe(animals))\n",
        "print(\"animal_patterns:\", animal_patterns)\n",
        "matcher = PhraseMatcher(nlp.vocab)\n",
        "matcher.add(\"ANIMAL\", animal_patterns)\n",
        "\n",
        "# Define the custom component\n",
        "@Language.component(\"animal_component\")\n",
        "def animal_component_function(doc):\n",
        "    # Apply the matcher to the doc\n",
        "    matches = matcher(doc)\n",
        "    # Create a Span for each match and assign the label \"ANIMAL\"\n",
        "    spans = [Span(doc, start,end, label='ANIMAL') for match_id, start, end in matches]\n",
        "    # Overwrite the doc.ents with the matched spans\n",
        "    doc.ents = spans\n",
        "    return doc\n",
        "\n",
        "\n",
        "# Add the component to the pipeline after the \"ner\" component\n",
        "nlp.add_pipe(\"animal_component\",after='ner')\n",
        "print(nlp.pipe_names)\n",
        "\n",
        "# Process the text and print the text and label for the doc.ents\n",
        "doc = nlp(\"I have a cat and a Golden Retriever\")\n",
        "print([(ent.text,ent.label_) for ent in doc.ents])"
      ],
      "metadata": {
        "colab": {
          "base_uri": "https://localhost:8080/"
        },
        "id": "MQ5RfYOIHeNO",
        "outputId": "e612f91f-57b5-4f62-efa9-2536b27b9951"
      },
      "execution_count": null,
      "outputs": [
        {
          "output_type": "stream",
          "name": "stdout",
          "text": [
            "animal_patterns: [Golden Retriever, cat, turtle, Rattus norvegicus]\n",
            "['tok2vec', 'tagger', 'parser', 'attribute_ruler', 'lemmatizer', 'ner', 'animal_component']\n",
            "[('cat', 'ANIMAL'), ('Golden Retriever', 'ANIMAL')]\n"
          ]
        }
      ]
    },
    {
      "cell_type": "markdown",
      "source": [
        "# Attribute Setting by Custom Extensions"
      ],
      "metadata": {
        "id": "JLBLVvKL-N7i"
      }
    },
    {
      "cell_type": "code",
      "source": [
        "from spacy.tokens import Token\n",
        "nlp=spacy.blank('en')\n",
        "doc=nlp(\"I am Gaja\")\n",
        "#Token.set_extension('is_human',default=False)\n",
        "doc[-1]._.is_human=True\n",
        "for token in doc:\n",
        "  print(token._.is_human,\"*****\",token.text)"
      ],
      "metadata": {
        "colab": {
          "base_uri": "https://localhost:8080/"
        },
        "id": "-ENg5EYR-NLT",
        "outputId": "6c37b080-50de-474a-a036-54416a57aa66"
      },
      "execution_count": null,
      "outputs": [
        {
          "output_type": "stream",
          "name": "stdout",
          "text": [
            "False ***** I\n",
            "False ***** am\n",
            "True ***** Gaja\n"
          ]
        }
      ]
    },
    {
      "cell_type": "markdown",
      "source": [
        "# Document Level Extensions by attributes."
      ],
      "metadata": {
        "id": "Tv1D0H2cA-2J"
      }
    },
    {
      "cell_type": "code",
      "source": [
        "from spacy.tokens import Doc\n",
        "nlp=spacy.blank('en')\n",
        "#Reverse Function:\n",
        "def reverse_func(doc):\n",
        "  words=[i.text for i in doc]\n",
        "  return ' '.join(words[::-1])\n",
        "if not Doc.has_extension(\"reversed_document\"):\n",
        "    Doc.set_extension(\"reversed_document\", getter=reverse_func)\n",
        "doc=nlp('I am Gaja sankar raja')\n",
        "print(doc._.reversed_document)"
      ],
      "metadata": {
        "colab": {
          "base_uri": "https://localhost:8080/"
        },
        "id": "iwZWxLp7_eLi",
        "outputId": "47b01a8b-99cd-4c5d-c1e8-e1fbe34b5a5c"
      },
      "execution_count": null,
      "outputs": [
        {
          "output_type": "stream",
          "name": "stdout",
          "text": [
            "raja sankar Gaja am I\n"
          ]
        }
      ]
    },
    {
      "cell_type": "code",
      "source": [
        "from spacy.tokens import Span\n",
        "nlp=spacy.load('en_core_web_sm')\n",
        "def get_wikipedia_url(span):\n",
        "    # Get a Wikipedia URL if the span has one of the labels\n",
        "    if span.label_ in (\"PERSON\", \"ORG\", \"GPE\", \"LOCATION\"):\n",
        "        entity_text = span.text.replace(\" \", \"_\")\n",
        "        return str(\"https://en.wikipedia.org/w/index.php?search=\") + entity_text\n",
        "#Span.set_extension(\"wikipedia_url\", getter=get_wikipedia_url)\n",
        "doc = nlp(\n",
        "    \"In over fifty years from his very first recordings right through to his \"\n",
        "    \"last album, David Bowie was at the vanguard of contemporary culture.\"\n",
        ")\n",
        "for ent in doc.ents:\n",
        "    print(ent.text,ent._.wikipedia_url)"
      ],
      "metadata": {
        "colab": {
          "base_uri": "https://localhost:8080/"
        },
        "id": "61MdJe9rK1jm",
        "outputId": "81a62552-e363-4245-af7b-870b6ebab4e3"
      },
      "execution_count": null,
      "outputs": [
        {
          "output_type": "stream",
          "name": "stdout",
          "text": [
            "fifty years None\n",
            "first None\n",
            "David Bowie https://en.wikipedia.org/w/index.php?search=David_Bowie\n"
          ]
        }
      ]
    },
    {
      "cell_type": "markdown",
      "source": [
        "# It must follow (data,context) order for tuples"
      ],
      "metadata": {
        "id": "mXi-nw96UfuW"
      }
    },
    {
      "cell_type": "code",
      "source": [
        "data = [\n",
        "    (\"This is a text\", {\"id\": 1, \"page_number\": 15}),\n",
        "    (\"And another text\", {\"id\": 2, \"page_number\": 16}),\n",
        "]\n",
        "document=nlp.pipe(data,as_tuples=True)\n",
        "print(list(document))\n",
        "for doc, context in nlp.pipe(data, as_tuples=True):\n",
        "    print(doc.text, context[\"id\"])"
      ],
      "metadata": {
        "colab": {
          "base_uri": "https://localhost:8080/"
        },
        "id": "reGIDp2jLivd",
        "outputId": "b46b5476-3d0d-4ec5-de55-fd7b8f7f8251"
      },
      "execution_count": null,
      "outputs": [
        {
          "output_type": "stream",
          "name": "stdout",
          "text": [
            "[(This is a text, {'id': 1, 'page_number': 15}), (And another text, {'id': 2, 'page_number': 16})]\n",
            "This is a text 1\n",
            "And another text 2\n"
          ]
        }
      ]
    },
    {
      "cell_type": "code",
      "source": [
        "nlp = spacy.blank(\"en\")\n",
        "people = [\"David Bowie\", \"Angela Merkel\", \"Lady Gaga\"]\n",
        "patterns = list(nlp.pipe(people))\n",
        "print(patterns)"
      ],
      "metadata": {
        "id": "bIXvYlV6Uek0",
        "colab": {
          "base_uri": "https://localhost:8080/"
        },
        "outputId": "e2b11ecb-a702-46a6-e0bc-f508010e1875"
      },
      "execution_count": null,
      "outputs": [
        {
          "output_type": "stream",
          "name": "stdout",
          "text": [
            "[David Bowie, Angela Merkel, Lady Gaga]\n"
          ]
        }
      ]
    },
    {
      "cell_type": "code",
      "source": [
        "nlp = spacy.load(\"en_core_web_sm\")\n",
        "text = (\n",
        "    \"Chick-fil-A is an American fast food restaurant chain headquartered in \"\n",
        "    \"the city of College Park, Georgia, specializing in chicken sandwiches.\"\n",
        ")\n",
        "# Disable the tagger and lemmatizer\n",
        "with nlp.select_pipes(disable=[\"tagger\", \"lemmatizer\"]):\n",
        "    # Process the text\n",
        "    doc = nlp(text)\n",
        "    # Print the entities in the doc\n",
        "    print(doc.ents)"
      ],
      "metadata": {
        "colab": {
          "base_uri": "https://localhost:8080/"
        },
        "id": "WZ__jVI4UN8m",
        "outputId": "34819648-70e3-4f9e-e454-af13875f1174"
      },
      "execution_count": null,
      "outputs": [
        {
          "output_type": "stream",
          "name": "stdout",
          "text": [
            "(American, College Park, Georgia)\n"
          ]
        }
      ]
    },
    {
      "cell_type": "code",
      "source": [
        "for ent in doc.ents:\n",
        "  print((ent.text,ent.label_))"
      ],
      "metadata": {
        "colab": {
          "base_uri": "https://localhost:8080/"
        },
        "id": "y7qbvgA_UZr3",
        "outputId": "d619b269-7727-4e5b-ff43-145d13a1bb13"
      },
      "execution_count": null,
      "outputs": [
        {
          "output_type": "stream",
          "name": "stdout",
          "text": [
            "('American', 'NORP')\n",
            "('College Park', 'GPE')\n",
            "('Georgia', 'GPE')\n"
          ]
        }
      ]
    },
    {
      "cell_type": "markdown",
      "source": [
        "![image.png](data:image/png;base64,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)"
      ],
      "metadata": {
        "id": "y-dhLGQWUia9"
      }
    },
    {
      "cell_type": "code",
      "source": [
        "import json\n",
        "import spacy\n",
        "from spacy.matcher import Matcher\n",
        "from spacy.tokens import Span, DocBin\n",
        "\n",
        "with open(\"exercises/en/iphone.json\", encoding=\"utf8\") as f:\n",
        "    TEXTS = json.loads(f.read())\n",
        "\n",
        "nlp = spacy.blank(\"en\")\n",
        "matcher = Matcher(nlp.vocab)\n",
        "# Add patterns to the matcher\n",
        "pattern1 = ([{\"LOWER\": \"iphone\"}, {\"LOWER\": \"x\"}])\n",
        "pattern2 = [{\"LOWER\": \"iphone\"}, {\"IS_DIGIT\": True}]\n",
        "matcher.add(\"GADGET\", [pattern1, pattern2])\n",
        "docs = []\n",
        "for doc in nlp.pipe(TEXTS):\n",
        "    matches = matcher(doc)\n",
        "    spans = [Span(doc, start, end, label=match_id) for match_id, start, end in matches]\n",
        "    doc.ents = spans\n",
        "    docs.append(doc)\n",
        "\n",
        "doc_bin = DocBin(docs=docs)\n",
        "doc_bin.to_disk(\"./train.spacy\")"
      ],
      "metadata": {
        "id": "zye1IQ7lrz-b"
      },
      "execution_count": null,
      "outputs": []
    },
    {
      "cell_type": "code",
      "source": [
        "#!pip install spacy-transformers\n",
        "!python -m spacy init config config.cfg --lang en --pipeline textcat --optimize accuracy"
      ],
      "metadata": {
        "colab": {
          "base_uri": "https://localhost:8080/"
        },
        "id": "XQJfjTd4tej3",
        "outputId": "21c1f9f6-d3ac-4f7a-d7ce-c9aa97fa03a9"
      },
      "execution_count": 4,
      "outputs": [
        {
          "output_type": "stream",
          "name": "stdout",
          "text": [
            "\n",
            "\u001b[38;5;1m✘ The provided output file already exists. To force overwriting the\n",
            "config file, set the --force or -F flag.\u001b[0m\n",
            "\n"
          ]
        }
      ]
    }
  ]
}